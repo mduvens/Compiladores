{
 "cells": [
  {
   "cell_type": "markdown",
   "metadata": {},
   "source": [
    "# Quintuplo"
   ]
  },
  {
   "cell_type": "code",
   "execution_count": 73,
   "metadata": {},
   "outputs": [],
   "source": [
    "alfabeto = {\"0\",\"1\"}\n",
    "estados = {\"A\",\"B\",\"C\",\"D\"}\n",
    "estadoInicial = \"A\"\n",
    "estadosAceitacao = {\"B\"}\n",
    "tabelaTrans = { \n",
    "    (\"A\",\"0\"):\"B\", # (atualEstado,simbolo): novoEstado\n",
    "    (\"A\",\"1\"):\"D\",\n",
    "    (\"B\",\"0\"):\"B\",\n",
    "    (\"B\",\"1\"):\"C\",\n",
    "    (\"C\",\"0\"):\"B\",\n",
    "    (\"C\",\"1\"):\"C\",\n",
    "    (\"D\",\"0\"):\"D\",\n",
    "    (\"D\",\"1\"):\"D\"\n",
    "}"
   ]
  },
  {
   "cell_type": "markdown",
   "metadata": {},
   "source": [
    "## if/else"
   ]
  },
  {
   "cell_type": "code",
   "execution_count": null,
   "metadata": {},
   "outputs": [],
   "source": [
    "estado = estadoInicial\n",
    "sequencia = input(\"Introduza uma sequencia binaria: \")\n",
    "\n",
    "for e in sequencia:\n",
    "    try:\n",
    "        if int(e) > 1: \n",
    "            print(\"Não binária\")\n",
    "            break\n",
    "        else:\n",
    "            if estado == \"A\":\n",
    "                if e == \"0\": estado = \"B\" \n",
    "                else: estado = \"D\"\n",
    "            if estado == \"B\":\n",
    "                if e == \"0\": estado = \"B\" \n",
    "                else: estado = \"C\"\n",
    "            if estado == \"C\":\n",
    "                if e == \"0\": estado = \"B\" \n",
    "                else: estado = \"C\"\n",
    "            if estado == \"D\":\n",
    "                if e == \"0\": estado = \"D\" \n",
    "                else: estado = \"D\"\n",
    "    except:\n",
    "        print(\"Não numérica\")\n",
    "        break\n",
    "else:\n",
    "    if estado in estadosAceitacao:\n",
    "        print(\"Aceite!\")\n",
    "    else:\n",
    "        print(\"Não aceite!\")"
   ]
  },
  {
   "cell_type": "markdown",
   "metadata": {},
   "source": [
    "## Dicionario"
   ]
  },
  {
   "cell_type": "code",
   "execution_count": 88,
   "metadata": {},
   "outputs": [
    {
     "name": "stdin",
     "output_type": "stream",
     "text": [
      "Introduza a sequencia 010\n"
     ]
    },
    {
     "name": "stdout",
     "output_type": "stream",
     "text": [
      "Aceite\n"
     ]
    }
   ],
   "source": [
    "estado = estadoInicial\n",
    "sequencia = input(\"Introduza a sequencia\")\n",
    "\n",
    "for e in sequencia:\n",
    "    if e in alfabeto:\n",
    "        estado = tabelaTrans[estado,e]\n",
    "    else:\n",
    "        print(\"Nao corresponde ao alfabeto\")\n",
    "        break  \n",
    "else:    \n",
    "    if estado in estadosAceitacao:\n",
    "        print(\"Aceite\")\n",
    "    else:\n",
    "        print(\"Não aceite\")"
   ]
  },
  {
   "cell_type": "markdown",
   "metadata": {},
   "source": [
    "## Ficheiro txt"
   ]
  },
  {
   "cell_type": "code",
   "execution_count": 3,
   "metadata": {},
   "outputs": [
    {
     "name": "stdin",
     "output_type": "stream",
     "text": [
      "Introduza a sequencia:  011\n"
     ]
    },
    {
     "name": "stdout",
     "output_type": "stream",
     "text": [
      "Nao aceite\n"
     ]
    }
   ],
   "source": [
    "import sys\n",
    "nomeF =  \"automato.txt\"\n",
    "f = open(nomeF)\n",
    "linhas = f.readlines()\n",
    "alfabeto2 = set()\n",
    "estados2 = set()\n",
    "estadoInicial2 = 0\n",
    "estadosAceitacao2 = set()\n",
    "tabelaTrans2 = {}\n",
    "\n",
    "for i in range(len(linhas)):\n",
    "    linhas[i] = linhas[i].strip('\\n')\n",
    "    if i == 0:\n",
    "        for e in linhas[i]:\n",
    "            if e != ' ':\n",
    "                alfabeto2.add(e)\n",
    "    elif i == 1:\n",
    "        for e in linhas[i]:\n",
    "            if e != ' ':\n",
    "                estados2.add(e)\n",
    "    elif i == 2:\n",
    "        estadoInicial2 = str(linhas[i])\n",
    "        if estadoInicial2 not in estados2:\n",
    "            sys.exit(f\"O estado inicial nao pertence ao alfabeto. Atualize o automato no ficheiro: {nomeF}\")\n",
    "    elif i == 3:\n",
    "        for e in linhas[i]:\n",
    "            if e != ' ':\n",
    "                estadosAceitacao2.add(e)\n",
    "        for e in estadosAceitacao2:\n",
    "            if e not in estados2:\n",
    "                sys.exit(f\"Um ou mais estados de aceitacao nao pertence ao alfabeto. Atualize o automato do ficheiro: {nomeF}\")\n",
    "    else:\n",
    "        tabelaTrans2[linhas[i][0],linhas[i][2]] = linhas[i][4]\n",
    "\n",
    "seq = input(\"Introduza a sequencia: \")\n",
    "estado2 = estadoInicial2\n",
    "for e in seq:\n",
    "    if e not in alfabeto2:\n",
    "        print(\"Nao compativel com o alfabeto\")\n",
    "        break\n",
    "    else:\n",
    "        estado2 = tabelaTrans2[estado2,e]\n",
    "else:\n",
    "    if estado2 in estadosAceitacao2:\n",
    "        print(\"Aceite\")\n",
    "    else:\n",
    "        print(\"Nao aceite\")\n",
    "        \n",
    "#print(alfabeto2)\n",
    "#print(estados2)\n",
    "#print(estadoInicial2)\n",
    "#print(estadosAceitacao2)\n",
    "#print(tabelaTrans2)"
   ]
  },
  {
   "cell_type": "code",
   "execution_count": null,
   "metadata": {},
   "outputs": [],
   "source": []
  }
 ],
 "metadata": {
  "kernelspec": {
   "display_name": "Python 3",
   "language": "python",
   "name": "python3"
  },
  "language_info": {
   "codemirror_mode": {
    "name": "ipython",
    "version": 3
   },
   "file_extension": ".py",
   "mimetype": "text/x-python",
   "name": "python",
   "nbconvert_exporter": "python",
   "pygments_lexer": "ipython3",
   "version": "3.7.6"
  }
 },
 "nbformat": 4,
 "nbformat_minor": 4
}
