{
 "cells": [
  {
   "cell_type": "markdown",
   "metadata": {},
   "source": [
    "# Criar Automato JSON"
   ]
  },
  {
   "cell_type": "code",
   "execution_count": 1,
   "metadata": {},
   "outputs": [
    {
     "name": "stdout",
     "output_type": "stream",
     "text": [
      "Introduza o alfabeto\n"
     ]
    },
    {
     "name": "stdin",
     "output_type": "stream",
     "text": [
      " 0\n",
      " 1\n",
      " \n"
     ]
    },
    {
     "name": "stdout",
     "output_type": "stream",
     "text": [
      "Introduza os estados\n"
     ]
    },
    {
     "name": "stdin",
     "output_type": "stream",
     "text": [
      " a\n",
      " b\n",
      " c\n",
      " d\n",
      " \n"
     ]
    },
    {
     "name": "stdout",
     "output_type": "stream",
     "text": [
      "Introduza o estadoInicial\n"
     ]
    },
    {
     "name": "stdin",
     "output_type": "stream",
     "text": [
      " a\n"
     ]
    },
    {
     "name": "stdout",
     "output_type": "stream",
     "text": [
      "Introduza os estados de aceitacao\n"
     ]
    },
    {
     "name": "stdin",
     "output_type": "stream",
     "text": [
      " b\n",
      " \n"
     ]
    },
    {
     "name": "stdout",
     "output_type": "stream",
     "text": [
      "Introduza todas as transicoes possiveis! Total = nº estados * nº alfabeto\n"
     ]
    },
    {
     "name": "stdin",
     "output_type": "stream",
     "text": [
      "Estado:  a\n",
      "Elemento:  0\n",
      "Novo estado:  b\n"
     ]
    },
    {
     "name": "stdout",
     "output_type": "stream",
     "text": [
      "------------------------\n"
     ]
    },
    {
     "name": "stdin",
     "output_type": "stream",
     "text": [
      "Estado:  a\n",
      "Elemento:  1\n",
      "Novo estado:  d\n"
     ]
    },
    {
     "name": "stdout",
     "output_type": "stream",
     "text": [
      "------------------------\n"
     ]
    },
    {
     "name": "stdin",
     "output_type": "stream",
     "text": [
      "Estado:  b\n",
      "Elemento:  0\n",
      "Novo estado:  b\n"
     ]
    },
    {
     "name": "stdout",
     "output_type": "stream",
     "text": [
      "------------------------\n"
     ]
    },
    {
     "name": "stdin",
     "output_type": "stream",
     "text": [
      "Estado:  b\n",
      "Elemento:  1\n",
      "Novo estado:  c\n"
     ]
    },
    {
     "name": "stdout",
     "output_type": "stream",
     "text": [
      "------------------------\n"
     ]
    },
    {
     "name": "stdin",
     "output_type": "stream",
     "text": [
      "Estado:  c\n",
      "Elemento:  0\n",
      "Novo estado:  b\n"
     ]
    },
    {
     "name": "stdout",
     "output_type": "stream",
     "text": [
      "------------------------\n"
     ]
    },
    {
     "name": "stdin",
     "output_type": "stream",
     "text": [
      "Estado:  c\n",
      "Elemento:  1\n",
      "Novo estado:  c\n"
     ]
    },
    {
     "name": "stdout",
     "output_type": "stream",
     "text": [
      "------------------------\n"
     ]
    },
    {
     "name": "stdin",
     "output_type": "stream",
     "text": [
      "Estado:  d\n",
      "Elemento:  0\n",
      "Novo estado:  d\n"
     ]
    },
    {
     "name": "stdout",
     "output_type": "stream",
     "text": [
      "------------------------\n"
     ]
    },
    {
     "name": "stdin",
     "output_type": "stream",
     "text": [
      "Estado:  d\n",
      "Elemento:  1\n",
      "Novo estado:  d\n"
     ]
    },
    {
     "name": "stdout",
     "output_type": "stream",
     "text": [
      "------------------------\n"
     ]
    }
   ],
   "source": [
    "import json\n",
    "\n",
    "quintuplo =  {}\n",
    "quintuplo[\"alfabeto\"] = set()\n",
    "quintuplo[\"estados\"] = set()\n",
    "quintuplo[\"estadoInicial\"] = 0\n",
    "quintuplo[\"estadosAceitacao\"] = set()\n",
    "quintuplo[\"tabelaTrans\"] = {}\n",
    "\n",
    "print(\"Introduza o alfabeto\")\n",
    "while True:\n",
    "    a = input()\n",
    "    if a == \"fim\" or len(a) == 0:\n",
    "        break\n",
    "    quintuplo[\"alfabeto\"].add(a)\n",
    "    \n",
    "print(\"Introduza os estados\")\n",
    "while True:\n",
    "    a = input()\n",
    "    if a == \"fim\" or len(a) == 0:\n",
    "        break\n",
    "    quintuplo[\"estados\"].add(a)\n",
    "    \n",
    "print(\"Introduza o estadoInicial\")\n",
    "while True:\n",
    "    a = input()\n",
    "    if a in quintuplo[\"estados\"]:\n",
    "        quintuplo[\"estadoInicial\"] = a\n",
    "        break\n",
    "    else:\n",
    "        print(\"Não existe\")\n",
    "        \n",
    "print(\"Introduza os estados de aceitacao\")\n",
    "while True:\n",
    "    a = input()\n",
    "    if a == \"fim\" or len(a) == 0:\n",
    "        break\n",
    "    if a in quintuplo[\"estados\"]:\n",
    "        quintuplo[\"estadosAceitacao\"].add(a)\n",
    "    else:\n",
    "        print(\"Nao existe\")\n",
    "\n",
    "print(\"Introduza todas as transicoes possiveis! Total = nº estados * nº alfabeto\")\n",
    "\n",
    "while len(quintuplo[\"tabelaTrans\"]) < len(quintuplo[\"estados\"]) * len(quintuplo[\"alfabeto\"]):    \n",
    "    estado = input(\"Estado: \")\n",
    "    letra = input(\"Elemento: \")\n",
    "    resultado = input(\"Novo estado: \")\n",
    "    if estado and resultado in quintuplo[\"estados\"] and letra in quintuplo[\"alfabeto\"]:\n",
    "        quintuplo[\"tabelaTrans\"][f\"{estado} {letra}\"] = resultado # nao se pode guardar chaves em JSON como tuples ou lists. tem de ser uma string...\n",
    "        print(\"------------------------\")\n",
    "    else:\n",
    "        print(\"Um dos parâmetros está incorreto, tente de novo. \")\n",
    "        \n",
    "# JSON nao permite usar sets, pelo que converti todos para lists.\n",
    "quintuplo[\"alfabeto\"] = list(quintuplo[\"alfabeto\"])\n",
    "quintuplo[\"estados\"] = list(quintuplo[\"estados\"])\n",
    "quintuplo[\"estadosAceitacao\"] = list(quintuplo[\"estadosAceitacao\"])\n",
    "\n",
    "with open(\"ficheiro.json\",\"w\") as f:\n",
    "    json.dump(quintuplo,f)"
   ]
  },
  {
   "cell_type": "markdown",
   "metadata": {},
   "source": [
    "# Importar de um ficheiro JSON ** INCOMPLETO **"
   ]
  },
  {
   "cell_type": "code",
   "execution_count": 78,
   "metadata": {},
   "outputs": [
    {
     "name": "stdout",
     "output_type": "stream",
     "text": [
      "{'alfabeto': ['1', '0'], 'estados': ['d', 'a', 'b', 'c'], 'estadoInicial': 'a', 'estadosAceitacao': ['b'], 'tabelaTrans': {'a 0': 'b', 'a 1': 'd', 'b 0': 'b', 'b 1': 'c', 'c 0': 'b', 'c 1': 'c', 'd 0': 'd', 'd 1': 'd'}}\n"
     ]
    }
   ],
   "source": [
    "with open(\"ficheiro.json\") as f:\n",
    "    quintuploJSON = json.load(f)\n",
    "print(quintuploJSON)\n",
    "#novaTabela = quintuploJSON['tabelaTrans']\n",
    "\n",
    "elementos = list(quintuploJSON['tabelaTrans'].items())\n",
    "#print(elem)\n",
    "\n",
    "for c, v in elementos :\n",
    "    quintuploJSON['tabelaTrans'][tuple(c.split())] = quintuploJSON['tabelaTrans'][c]\n",
    "    del quintuploJSON['tabelaTrans'][c]\n",
    "    \n",
    "seq = input(\"Introduza a sequencia: \")\n",
    "estado = \n",
    "for e in seq:\n",
    "    if e not in quintuploJSON['alfabeto']:\n",
    "        print(\"Nao corresponde ao alfabeto\")\n",
    "        break\n",
    "    else:\n",
    "        estado = quintuploJSON['tabelaTrans'][estado,e]\n",
    "else:\n",
    "    if estado2 in estadosAceitacao2:\n",
    "        print(\"Aceite\")\n",
    "    else:\n",
    "        print(\"Nao aceite\")\n"
   ]
  },
  {
   "cell_type": "code",
   "execution_count": null,
   "metadata": {},
   "outputs": [],
   "source": []
  }
 ],
 "metadata": {
  "kernelspec": {
   "display_name": "Python 3",
   "language": "python",
   "name": "python3"
  },
  "language_info": {
   "codemirror_mode": {
    "name": "ipython",
    "version": 3
   },
   "file_extension": ".py",
   "mimetype": "text/x-python",
   "name": "python",
   "nbconvert_exporter": "python",
   "pygments_lexer": "ipython3",
   "version": "3.7.6"
  }
 },
 "nbformat": 4,
 "nbformat_minor": 4
}
