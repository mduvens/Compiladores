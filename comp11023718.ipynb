{
 "cells": [
  {
   "cell_type": "markdown",
   "metadata": {},
   "source": [
    "### 1. Pesquise qual o formato dos emails e crie um programa que reconheça emails corretamente escritos."
   ]
  },
  {
   "cell_type": "code",
   "execution_count": 4,
   "metadata": {},
   "outputs": [
    {
     "name": "stdin",
     "output_type": "stream",
     "text": [
      "Insira um e-mail:  fdsad a adaasd@gmail.com\n"
     ]
    },
    {
     "name": "stdout",
     "output_type": "stream",
     "text": [
      "E-mail aceite\n"
     ]
    }
   ],
   "source": [
    "import re\n",
    "\n",
    "regex = '[^@]+@[^@]+\\.[^@]+'\n",
    "email = input('Insira um e-mail: ')\n",
    "\n",
    "if re.match(regex, email):\n",
    "    print('E-mail aceite')\n",
    "else:\n",
    "    print('E-mail não aceite')"
   ]
  },
  {
   "cell_type": "code",
   "execution_count": null,
   "metadata": {},
   "outputs": [],
   "source": []
  },
  {
   "cell_type": "markdown",
   "metadata": {},
   "source": [
    "### 2. Escreva uma expressão regular e utilize-a num programa que valide uma nota entre 0 e 20 valores, aceitando números inteiros, ou com até duas casas decimais."
   ]
  },
  {
   "cell_type": "code",
   "execution_count": 1,
   "metadata": {},
   "outputs": [
    {
     "name": "stdin",
     "output_type": "stream",
     "text": [
      "Insira a nota:  12.45\n"
     ]
    },
    {
     "name": "stdout",
     "output_type": "stream",
     "text": [
      "Nota valida\n"
     ]
    }
   ],
   "source": [
    "import re\n",
    "\n",
    "regex = r'^[0-9](\\.\\d\\d?)?$|^[0-1][0-9](\\.\\d\\d?)?$|^20$'\n",
    "nota = input(\"Insira a nota: \")\n",
    "\n",
    "if re.match(regex, nota):\n",
    "    print(\"Nota valida\")\n",
    "else:\n",
    "    print(\"Nota inválida\")"
   ]
  },
  {
   "cell_type": "markdown",
   "metadata": {},
   "source": [
    "### 3. Escreva um programa que valida se um número de telefone de 9 dígitos está correto. Neste caso não têm espaço entre os dígitos. Poderá ter espaços entre os dígitos assim como '-'"
   ]
  },
  {
   "cell_type": "code",
   "execution_count": 18,
   "metadata": {},
   "outputs": [
    {
     "name": "stdin",
     "output_type": "stream",
     "text": [
      "Insira nº de telefone:  91323232\n"
     ]
    },
    {
     "name": "stdout",
     "output_type": "stream",
     "text": [
      "número inválido\n"
     ]
    }
   ],
   "source": [
    "import re\n",
    "\n",
    "regex = r'^[2789][\\d]{8}$'\n",
    "telefone = input(\"Insira nº de telefone: \")\n",
    "\n",
    "if re.match(regex,telefone):\n",
    "    print ('número válido')\n",
    "else:\n",
    "    print ('número inválido')"
   ]
  },
  {
   "cell_type": "markdown",
   "metadata": {},
   "source": [
    "### 4. Escreva um programa que valida se um número de telefone de 9 dígitos está correto. Poderá ter espaços entre dígitos assim como '-'.\n",
    "    \"Exemplo: 912345678, 912 345 678, 91 234 56 78, 912-345-678"
   ]
  },
  {
   "cell_type": "code",
   "execution_count": null,
   "metadata": {},
   "outputs": [],
   "source": [
    "import re\n",
    "\n",
    "\n",
    "regex = r'^(2|7|8|9)(.?[0-9]){8}$'\n",
    "telefone = input(\"Insira nº de telefone: \")\n",
    "\n",
    "if re.match(regex,telefone):\n",
    "    print ('número válido')\n",
    "else:\n",
    "    print ('número inválido')"
   ]
  },
  {
   "cell_type": "markdown",
   "metadata": {},
   "source": [
    "### 5. Crie uma expressão regular para verificar a complexidade de uma password,\n",
    "    \n",
    "    Considere que esta deverá ter:,\n",
    "    * pelo menos uma maiúscula,\n",
    "    * pelo menos três minúscula,\n",
    "    * pelo menos um dígito,\n",
    "    * pelo menos seis carateres,\n",
    "    * pelo menos um carater especial,\n",
    "    \"Nota: ,\n",
    "    * a expressão regular ``(?=.*?[A-Z]).{3}\n",
    "    ``indica que há pelo menos uma letra maiúscula numa sequencia de 3 carateres``\n",
    "    * a expressão regular ``(?=(?:[^A-Z]*[A-Z]){3})\n",
    "    `` indica que há pelo menos 3 letras maiúsculas``"
   ]
  },
  {
   "cell_type": "code",
   "execution_count": null,
   "metadata": {},
   "outputs": [],
   "source": []
  },
  {
   "cell_type": "markdown",
   "metadata": {},
   "source": [
    "### \"6. Escreva um programa que recebe um ficheiro de texto e imprime uma lista de todos os emails que este contem. Utilize a expressão regular que definiu na pergunta 1.\""
   ]
  },
  {
   "cell_type": "code",
   "execution_count": null,
   "metadata": {},
   "outputs": [],
   "source": []
  },
  {
   "cell_type": "markdown",
   "metadata": {},
   "source": [
    "### 7. Escreva um programa que recebe um ficheiro com emails e retorna apenas o domínio de cada email. Por exemplo, para ``abc.test@gmail.com, xyz@test.in, test.first@analyticsvidhya.com, first.test@rest.biz `` deverá retornar, \"``[com, in, com, biz]``, \"Pista: no método findall, se identificarmos um grupo (...), é retornado apenas o seu conteúdo.\n",
    "Exemplo: \n",
    "\n",
    "result=re.findall(r':(\\\\d\\\\d)','aba:32 gre:23 qwerv:56')\n",
    " \n",
    "print (result)\n",
    " \n",
    "['32', '23', '56']"
   ]
  },
  {
   "cell_type": "code",
   "execution_count": null,
   "metadata": {},
   "outputs": [],
   "source": []
  },
  {
   "cell_type": "code",
   "execution_count": null,
   "metadata": {},
   "outputs": [],
   "source": []
  }
 ],
 "metadata": {
  "kernelspec": {
   "display_name": "Python 3",
   "language": "python",
   "name": "python3"
  },
  "language_info": {
   "codemirror_mode": {
    "name": "ipython",
    "version": 3
   },
   "file_extension": ".py",
   "mimetype": "text/x-python",
   "name": "python",
   "nbconvert_exporter": "python",
   "pygments_lexer": "ipython3",
   "version": "3.8.3"
  }
 },
 "nbformat": 4,
 "nbformat_minor": 4
}
